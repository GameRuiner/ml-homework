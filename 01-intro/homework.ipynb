{
 "cells": [
  {
   "cell_type": "code",
   "execution_count": 62,
   "id": "46a44d32-e98d-4602-bda7-4c686c4a938c",
   "metadata": {},
   "outputs": [
    {
     "data": {
      "text/plain": [
       "'Pandas version 2.2.2'"
      ]
     },
     "execution_count": 62,
     "metadata": {},
     "output_type": "execute_result"
    }
   ],
   "source": [
    "# Q1\n",
    "import pandas as pd\n",
    "import numpy as np\n",
    "\n",
    "'Pandas version ' + pd.__version__"
   ]
  },
  {
   "cell_type": "code",
   "execution_count": 35,
   "id": "eb0c9c57-aa27-48b6-a2d7-16f9dfe08da9",
   "metadata": {},
   "outputs": [
    {
     "data": {
      "text/plain": [
       "'Record counts 2160'"
      ]
     },
     "execution_count": 35,
     "metadata": {},
     "output_type": "execute_result"
    }
   ],
   "source": [
    "# Q2\n",
    "df = pd.read_csv('laptops.csv')\n",
    "f'Record counts {len(ds)}'"
   ]
  },
  {
   "cell_type": "code",
   "execution_count": 26,
   "id": "f8c228b9-f435-4aff-83eb-f12103858dad",
   "metadata": {},
   "outputs": [
    {
     "data": {
      "text/plain": [
       "'Laptop brands 27'"
      ]
     },
     "execution_count": 26,
     "metadata": {},
     "output_type": "execute_result"
    }
   ],
   "source": [
    "# Q3\n",
    "f'Laptop brands {df['Brand'].nunique()}'"
   ]
  },
  {
   "cell_type": "code",
   "execution_count": 36,
   "id": "dd630601-2c69-4eba-a918-221ea4fc6379",
   "metadata": {},
   "outputs": [
    {
     "data": {
      "text/plain": [
       "'3 columns in the dataset have missing values'"
      ]
     },
     "execution_count": 36,
     "metadata": {},
     "output_type": "execute_result"
    }
   ],
   "source": [
    "# Q4\n",
    "f'{(df.isnull().sum() > 0).sum()} columns in the dataset have missing values'"
   ]
  },
  {
   "cell_type": "code",
   "execution_count": 37,
   "id": "9ea18cca-560f-4bfe-a652-448508572a1e",
   "metadata": {},
   "outputs": [
    {
     "data": {
      "text/plain": [
       "'3936.0 is the maximum final price of Dell notebooks'"
      ]
     },
     "execution_count": 37,
     "metadata": {},
     "output_type": "execute_result"
    }
   ],
   "source": [
    "# Q5\n",
    "f\"{df[df.Brand == 'Dell']['Final Price'].max()} is the maximum final price of Dell notebooks\""
   ]
  },
  {
   "cell_type": "code",
   "execution_count": 54,
   "id": "5312a6af-fe84-4f18-93ec-956b7477cef1",
   "metadata": {},
   "outputs": [
    {
     "data": {
      "text/plain": [
       "'Has median changed? False'"
      ]
     },
     "execution_count": 54,
     "metadata": {},
     "output_type": "execute_result"
    }
   ],
   "source": [
    "# Q6\n",
    "median = df['Screen'].median()\n",
    "mode = df['Screen'].mode()[0]\n",
    "column = df['Screen'].fillna(mode)\n",
    "f\"Has median changed? {column.median() != median}\""
   ]
  },
  {
   "cell_type": "code",
   "execution_count": 72,
   "id": "764823e5-92f9-43b4-a517-ff545e80b5bc",
   "metadata": {},
   "outputs": [
    {
     "data": {
      "text/plain": [
       "'91.30'"
      ]
     },
     "execution_count": 72,
     "metadata": {},
     "output_type": "execute_result"
    }
   ],
   "source": [
    "# Q7\n",
    "innjoo = df[df.Brand == 'Innjoo']\n",
    "innjoo = innjoo[['RAM', 'Storage', 'Screen']]\n",
    "X = innjoo.values\n",
    "XTX = X.T.dot(X)\n",
    "inv = np.linalg.inv(XTX)\n",
    "y = [1100, 1300, 800, 900, 1000, 1100]\n",
    "w = inv.dot(X.T).dot(y)\n",
    "\"{:.2f}\".format(round(sum(w), 2))"
   ]
  }
 ],
 "metadata": {
  "kernelspec": {
   "display_name": "Python 3 (ipykernel)",
   "language": "python",
   "name": "python3"
  },
  "language_info": {
   "codemirror_mode": {
    "name": "ipython",
    "version": 3
   },
   "file_extension": ".py",
   "mimetype": "text/x-python",
   "name": "python",
   "nbconvert_exporter": "python",
   "pygments_lexer": "ipython3",
   "version": "3.12.5"
  }
 },
 "nbformat": 4,
 "nbformat_minor": 5
}
