{
 "cells": [
  {
   "cell_type": "markdown",
   "id": "f1b737cb-4e2d-4ac5-be26-f6d505f5711d",
   "metadata": {},
   "source": [
    "# Evaluation"
   ]
  },
  {
   "cell_type": "markdown",
   "id": "4d8ae303-5071-4cf7-a83c-fa40c169e90c",
   "metadata": {},
   "source": [
    "## Importing libraries"
   ]
  },
  {
   "cell_type": "code",
   "execution_count": 39,
   "id": "b60a9e92-f655-4c24-93b3-ae001ad12323",
   "metadata": {},
   "outputs": [],
   "source": [
    "import pandas as pd\n",
    "import numpy as np\n",
    "\n",
    "from sklearn.model_selection import train_test_split\n",
    "from sklearn.model_selection import KFold\n",
    "\n",
    "from sklearn.metrics import roc_auc_score\n",
    "from sklearn.linear_model import LogisticRegression\n",
    "from sklearn.feature_extraction import DictVectorizer\n",
    "\n",
    "import matplotlib.pyplot as plt\n",
    "import seaborn as sns\n",
    "\n",
    "random_state = 1\n",
    "np.random.seed(random_state)"
   ]
  },
  {
   "cell_type": "markdown",
   "id": "26359537-6e18-4f66-9970-491e14658fd4",
   "metadata": {},
   "source": [
    "## Preparing the dataset"
   ]
  },
  {
   "cell_type": "code",
   "execution_count": 2,
   "id": "eb6f876a-976c-42a4-b040-ff8b458b412b",
   "metadata": {},
   "outputs": [
    {
     "name": "stdout",
     "output_type": "stream",
     "text": [
      "0 columns in the dataset have missing values\n"
     ]
    }
   ],
   "source": [
    "df = pd.read_csv('bank-full.csv', sep=\";\")\n",
    "df = df[['age', 'job', 'marital', 'education', 'balance', \n",
    "         'housing', 'contact', 'day', 'month', 'duration', \n",
    "         'campaign', 'pdays', 'previous', 'poutcome', 'y']]\n",
    "print(f'{(df.isnull().sum() > 0).sum()} columns in the dataset have missing values')\n",
    "\n",
    "y = df['y'].map({'yes': 1, 'no': 0})\n",
    "x = df.drop('y', axis=1)\n",
    "\n",
    "train_data, temp_data = train_test_split(x, test_size=0.4, random_state=random_state)\n",
    "y_train = y[train_data.index]\n",
    "val_data, test_data = train_test_split(temp_data, test_size=0.5, random_state=random_state)\n",
    "y_val = y[val_data.index]\n",
    "y_test = y[test_data.index]"
   ]
  },
  {
   "cell_type": "markdown",
   "id": "40c3d99c-e788-4cfe-91a1-295d1e3aa622",
   "metadata": {},
   "source": [
    "## Question 1: ROC AUC feature importance"
   ]
  },
  {
   "cell_type": "code",
   "execution_count": 3,
   "id": "ad26f517-9c0a-4d63-b843-fdddd20b76b5",
   "metadata": {},
   "outputs": [
    {
     "data": {
      "text/plain": [
       "array(['age', 'balance', 'day', 'duration', 'campaign', 'pdays',\n",
       "       'previous'], dtype=object)"
      ]
     },
     "execution_count": 3,
     "metadata": {},
     "output_type": "execute_result"
    }
   ],
   "source": [
    "numerical = df.select_dtypes(include='number').columns.values\n",
    "numerical"
   ]
  },
  {
   "cell_type": "code",
   "execution_count": 4,
   "id": "11d37a5a-8347-483d-af92-f4a8cf1bcb76",
   "metadata": {},
   "outputs": [
    {
     "data": {
      "text/plain": [
       "\"'duration' has the highest AUC 0.81\""
      ]
     },
     "execution_count": 4,
     "metadata": {},
     "output_type": "execute_result"
    }
   ],
   "source": [
    "max_auc = 0\n",
    "variable_name = ''\n",
    "for col in numerical:\n",
    "    auc_score = roc_auc_score(y_train, train_data[col])\n",
    "    if auc_score < 0.5:\n",
    "        auc_score = roc_auc_score(y_train, -train_data[col])\n",
    "    if auc_score > max_auc:\n",
    "        variable_name = col\n",
    "        max_auc = auc_score\n",
    "    # print(f\"Variable '{col}' has {round(auc_score, 2)} AUC\")\n",
    "\n",
    "f\"'{variable_name}' has the highest AUC {round(max_auc, 2)}\"\n"
   ]
  },
  {
   "cell_type": "markdown",
   "id": "6d486343-5717-43ec-a406-60af84023156",
   "metadata": {},
   "source": [
    "## Question 2: Training the model"
   ]
  },
  {
   "cell_type": "code",
   "execution_count": 9,
   "id": "afb7c896-4a8d-40fd-b369-ed14057ff8e0",
   "metadata": {},
   "outputs": [],
   "source": [
    "def prepare_train(train_data):  \n",
    "    train_dict = train_data.to_dict(orient='records')\n",
    "    dv = DictVectorizer(sparse=False)\n",
    "    X_train = dv.fit_transform(train_dict)\n",
    "    return X_train, dv\n",
    "\n",
    "def train_model(X_train, y_train, C):\n",
    "    model = LogisticRegression(solver='liblinear', C=C, max_iter=1000, random_state=random_state)\n",
    "    model.fit(X_train, y_train)\n",
    "    return model\n",
    "\n",
    "def prepare_val(val_data, dv):\n",
    "    val_dict = val_data.to_dict(orient='records')\n",
    "    X_val = dv.transform(val_dict)\n",
    "    return X_val"
   ]
  },
  {
   "cell_type": "code",
   "execution_count": 11,
   "id": "5a9e5902-68c8-443b-97d0-ded42c3ad9a1",
   "metadata": {},
   "outputs": [
    {
     "data": {
      "text/plain": [
       "'AUC is 0.659 on the validation dataset'"
      ]
     },
     "execution_count": 11,
     "metadata": {},
     "output_type": "execute_result"
    }
   ],
   "source": [
    "X_train, dv = prepare_train(train_data)\n",
    "X_val = prepare_val(val_data, dv)\n",
    "model = train_model(X_train, y_train, 1.0)\n",
    "y_pred = model.predict(X_val)\n",
    "f\"AUC is {round(roc_auc_score(y_val, y_pred), 3)} on the validation dataset\""
   ]
  },
  {
   "cell_type": "markdown",
   "id": "b1079155-4e81-44c4-a4f9-e5e861ac1836",
   "metadata": {},
   "source": [
    "## Question 3: Precision and Recall"
   ]
  },
  {
   "cell_type": "code",
   "execution_count": null,
   "id": "a47ba27f-d81d-4e82-9b60-893de947023f",
   "metadata": {},
   "outputs": [],
   "source": []
  },
  {
   "cell_type": "code",
   "execution_count": null,
   "id": "63fd9b6d-3cb4-42ed-b1e4-6df1b203da56",
   "metadata": {},
   "outputs": [],
   "source": []
  },
  {
   "cell_type": "code",
   "execution_count": 21,
   "id": "6389e9a3-f6d3-47a6-85b2-3db75f0957dc",
   "metadata": {},
   "outputs": [
    {
     "data": {
      "text/plain": [
       "array([0.00712118, 0.03458869, 0.03809236, ..., 0.08733983, 0.12564696,\n",
       "       0.00386254])"
      ]
     },
     "execution_count": 21,
     "metadata": {},
     "output_type": "execute_result"
    }
   ],
   "source": [
    "y_pred = model.predict_proba(X_val)[:, 1]\n",
    "y_pred"
   ]
  },
  {
   "cell_type": "code",
   "execution_count": 36,
   "id": "23ed4bdc-b834-46ed-88be-51ddc40b824e",
   "metadata": {},
   "outputs": [
    {
     "data": {
      "text/html": [
       "<div>\n",
       "<style scoped>\n",
       "    .dataframe tbody tr th:only-of-type {\n",
       "        vertical-align: middle;\n",
       "    }\n",
       "\n",
       "    .dataframe tbody tr th {\n",
       "        vertical-align: top;\n",
       "    }\n",
       "\n",
       "    .dataframe thead th {\n",
       "        text-align: right;\n",
       "    }\n",
       "</style>\n",
       "<table border=\"1\" class=\"dataframe\">\n",
       "  <thead>\n",
       "    <tr style=\"text-align: right;\">\n",
       "      <th></th>\n",
       "      <th>threshold</th>\n",
       "      <th>tp</th>\n",
       "      <th>fp</th>\n",
       "      <th>fn</th>\n",
       "      <th>tn</th>\n",
       "      <th>p</th>\n",
       "      <th>r</th>\n",
       "      <th>f1</th>\n",
       "    </tr>\n",
       "  </thead>\n",
       "  <tbody>\n",
       "    <tr>\n",
       "      <th>0</th>\n",
       "      <td>0.0</td>\n",
       "      <td>1028</td>\n",
       "      <td>8014</td>\n",
       "      <td>0</td>\n",
       "      <td>0</td>\n",
       "      <td>0.113692</td>\n",
       "      <td>1.000000</td>\n",
       "      <td>0.204171</td>\n",
       "    </tr>\n",
       "    <tr>\n",
       "      <th>10</th>\n",
       "      <td>0.1</td>\n",
       "      <td>872</td>\n",
       "      <td>1498</td>\n",
       "      <td>156</td>\n",
       "      <td>6516</td>\n",
       "      <td>0.367932</td>\n",
       "      <td>0.848249</td>\n",
       "      <td>0.513243</td>\n",
       "    </tr>\n",
       "    <tr>\n",
       "      <th>20</th>\n",
       "      <td>0.2</td>\n",
       "      <td>698</td>\n",
       "      <td>685</td>\n",
       "      <td>330</td>\n",
       "      <td>7329</td>\n",
       "      <td>0.504700</td>\n",
       "      <td>0.678988</td>\n",
       "      <td>0.579013</td>\n",
       "    </tr>\n",
       "    <tr>\n",
       "      <th>30</th>\n",
       "      <td>0.3</td>\n",
       "      <td>560</td>\n",
       "      <td>438</td>\n",
       "      <td>468</td>\n",
       "      <td>7576</td>\n",
       "      <td>0.561122</td>\n",
       "      <td>0.544747</td>\n",
       "      <td>0.552813</td>\n",
       "    </tr>\n",
       "    <tr>\n",
       "      <th>40</th>\n",
       "      <td>0.4</td>\n",
       "      <td>457</td>\n",
       "      <td>292</td>\n",
       "      <td>571</td>\n",
       "      <td>7722</td>\n",
       "      <td>0.610147</td>\n",
       "      <td>0.444553</td>\n",
       "      <td>0.514350</td>\n",
       "    </tr>\n",
       "    <tr>\n",
       "      <th>50</th>\n",
       "      <td>0.5</td>\n",
       "      <td>353</td>\n",
       "      <td>205</td>\n",
       "      <td>675</td>\n",
       "      <td>7809</td>\n",
       "      <td>0.632616</td>\n",
       "      <td>0.343385</td>\n",
       "      <td>0.445145</td>\n",
       "    </tr>\n",
       "    <tr>\n",
       "      <th>60</th>\n",
       "      <td>0.6</td>\n",
       "      <td>283</td>\n",
       "      <td>145</td>\n",
       "      <td>745</td>\n",
       "      <td>7869</td>\n",
       "      <td>0.661215</td>\n",
       "      <td>0.275292</td>\n",
       "      <td>0.388736</td>\n",
       "    </tr>\n",
       "    <tr>\n",
       "      <th>70</th>\n",
       "      <td>0.7</td>\n",
       "      <td>217</td>\n",
       "      <td>111</td>\n",
       "      <td>811</td>\n",
       "      <td>7903</td>\n",
       "      <td>0.661585</td>\n",
       "      <td>0.211089</td>\n",
       "      <td>0.320059</td>\n",
       "    </tr>\n",
       "    <tr>\n",
       "      <th>80</th>\n",
       "      <td>0.8</td>\n",
       "      <td>137</td>\n",
       "      <td>73</td>\n",
       "      <td>891</td>\n",
       "      <td>7941</td>\n",
       "      <td>0.652381</td>\n",
       "      <td>0.133268</td>\n",
       "      <td>0.221325</td>\n",
       "    </tr>\n",
       "    <tr>\n",
       "      <th>90</th>\n",
       "      <td>0.9</td>\n",
       "      <td>69</td>\n",
       "      <td>38</td>\n",
       "      <td>959</td>\n",
       "      <td>7976</td>\n",
       "      <td>0.644860</td>\n",
       "      <td>0.067121</td>\n",
       "      <td>0.121586</td>\n",
       "    </tr>\n",
       "  </tbody>\n",
       "</table>\n",
       "</div>"
      ],
      "text/plain": [
       "    threshold    tp    fp   fn    tn         p         r        f1\n",
       "0         0.0  1028  8014    0     0  0.113692  1.000000  0.204171\n",
       "10        0.1   872  1498  156  6516  0.367932  0.848249  0.513243\n",
       "20        0.2   698   685  330  7329  0.504700  0.678988  0.579013\n",
       "30        0.3   560   438  468  7576  0.561122  0.544747  0.552813\n",
       "40        0.4   457   292  571  7722  0.610147  0.444553  0.514350\n",
       "50        0.5   353   205  675  7809  0.632616  0.343385  0.445145\n",
       "60        0.6   283   145  745  7869  0.661215  0.275292  0.388736\n",
       "70        0.7   217   111  811  7903  0.661585  0.211089  0.320059\n",
       "80        0.8   137    73  891  7941  0.652381  0.133268  0.221325\n",
       "90        0.9    69    38  959  7976  0.644860  0.067121  0.121586"
      ]
     },
     "execution_count": 36,
     "metadata": {},
     "output_type": "execute_result"
    }
   ],
   "source": [
    "thresholds = np.arange(0, 1, 0.01)\n",
    "scores = []\n",
    "\n",
    "for t in thresholds:\n",
    "    tp = ((y_pred >= t) & (y_val == 1)).sum()\n",
    "    fp = ((y_pred >= t) & (y_val == 0)).sum()\n",
    "    fn = ((y_pred < t) & (y_val == 1)).sum()\n",
    "    tn = ((y_pred < t) & (y_val == 0)).sum()\n",
    "    p = tp / (tp + fp)\n",
    "    r = tp / (tp + fn)\n",
    "    f1 = 2 * (p*r/(p+r))\n",
    "    scores.append((t, tp, fp, fn, tn, p, r, f1))\n",
    "\n",
    "df_scores = pd.DataFrame(scores)\n",
    "df_scores.columns = ['threshold', 'tp', 'fp', 'fn', 'tn', 'p', 'r', 'f1']\n",
    "df_scores[::10]"
   ]
  },
  {
   "cell_type": "code",
   "execution_count": 34,
   "id": "6f57d8b0-d375-4613-b94a-a5601b140dbb",
   "metadata": {},
   "outputs": [
    {
     "data": {
      "image/png": "[encoded data removed]",
      "text/plain": [
       "<Figure size 600x400 with 1 Axes>"
      ]
     },
     "metadata": {},
     "output_type": "display_data"
    }
   ],
   "source": [
    "plt.figure(figsize=(6, 4))\n",
    "plt.plot(thresholds, df_scores.p, label='Precision')\n",
    "plt.plot(thresholds, df_scores.r, label='Recall')\n",
    "plt.legend()\n",
    "plt.xlabel('Threshold')\n",
    "plt.xticks(np.linspace(0, 1, 11))\n",
    "plt.show()"
   ]
  },
  {
   "cell_type": "markdown",
   "id": "f65ea649-f8ea-4469-96bc-e1db930cb21e",
   "metadata": {},
   "source": [
    "## Question 4: F1 score"
   ]
  },
  {
   "cell_type": "code",
   "execution_count": 38,
   "id": "6f743170-07cc-49d0-a5df-2957ed112aa6",
   "metadata": {},
   "outputs": [
    {
     "data": {
      "text/plain": [
       "0.2"
      ]
     },
     "execution_count": 38,
     "metadata": {},
     "output_type": "execute_result"
    }
   ],
   "source": [
    "df_scores.loc[df_scores['f1'].idxmax()]['threshold']"
   ]
  },
  {
   "cell_type": "markdown",
   "id": "b32729e7-407d-4a40-8e7a-1c9c266f4f38",
   "metadata": {},
   "source": [
    "## Question 5: 5-Fold CV"
   ]
  },
  {
   "cell_type": "code",
   "execution_count": 55,
   "id": "54e55b71-d8e0-4ff3-841d-f1f8ef1220cf",
   "metadata": {},
   "outputs": [],
   "source": [
    "def get_aucs(df_train_full, C):\n",
    "    kfold = KFold(n_splits=5, shuffle=True, random_state=random_state)\n",
    "    aucs = []\n",
    "    \n",
    "    for train_idx, val_idx in kfold.split(df_train_full):\n",
    "        df_train = df_train_full.iloc[train_idx]\n",
    "        y_train = y[df_train.index]\n",
    "    \n",
    "        df_val = df_train_full.iloc[val_idx]\n",
    "        y_val = y[df_val.index]\n",
    "    \n",
    "        X_train, dv = prepare_train(df_train)\n",
    "        X_val = prepare_val(df_val, dv)\n",
    "        model = train_model(X_train, y_train, C)\n",
    "        y_pred = model.predict(X_val)\n",
    "    \n",
    "        rocauc = roc_auc_score(y_val, y_pred)\n",
    "        aucs.append(rocauc)\n",
    "    return aucs"
   ]
  },
  {
   "cell_type": "code",
   "execution_count": 56,
   "id": "064b3c04-c2b3-4424-99a5-2550fd80180b",
   "metadata": {},
   "outputs": [
    {
     "data": {
      "text/plain": [
       "[0.6469073277494207,\n",
       " 0.6510032256150247,\n",
       " 0.6712704039662409,\n",
       " 0.6703068102387849,\n",
       " 0.6585780885780886]"
      ]
     },
     "execution_count": 56,
     "metadata": {},
     "output_type": "execute_result"
    }
   ],
   "source": [
    "df_train_full = pd.concat([train_data , val_data])\n",
    "get_aucs(df_train_full, 1.0)"
   ]
  },
  {
   "cell_type": "code",
   "execution_count": null,
   "id": "c1b68f26-0887-4e6b-9205-efa1d6cca307",
   "metadata": {},
   "outputs": [],
   "source": []
  },
  {
   "cell_type": "code",
   "execution_count": 57,
   "id": "cc7b8f12-770f-405b-a702-3dd56fafedca",
   "metadata": {},
   "outputs": [
    {
     "data": {
      "text/plain": [
       "'Standard deviation of the scores across different folds is 0.0099'"
      ]
     },
     "execution_count": 57,
     "metadata": {},
     "output_type": "execute_result"
    }
   ],
   "source": [
    "f\"Standard deviation of the scores across different folds is {round(np.array(aucs).std(),4)}\""
   ]
  },
  {
   "cell_type": "markdown",
   "id": "1bc4d8bc-033f-4224-bdcc-a70d489568c0",
   "metadata": {},
   "source": [
    "## Question 6: Hyperparameter Tuning"
   ]
  },
  {
   "cell_type": "code",
   "execution_count": 58,
   "id": "50854159-c86f-435e-801d-6cdf1592a94e",
   "metadata": {},
   "outputs": [
    {
     "ename": "SyntaxError",
     "evalue": "'(' was never closed (1225648788.py, line 3)",
     "output_type": "error",
     "traceback": [
      "\u001b[0;36m  Cell \u001b[0;32mIn[58], line 3\u001b[0;36m\u001b[0m\n\u001b[0;31m    print(f\"C={C}, auc = {round(np.mean(aucs), 3)} ± {round(np.std(aucs), 3)}\"\u001b[0m\n\u001b[0m         ^\u001b[0m\n\u001b[0;31mSyntaxError\u001b[0m\u001b[0;31m:\u001b[0m '(' was never closed\n"
     ]
    }
   ],
   "source": [
    "for C in [0.000001, 0.001, 1]:\n",
    "    aucs = get_aucs(df_train_full, C)\n",
    "    print(f\"C={C}, auc = {round(np.mean(aucs), 3)} ± {round(np.std(aucs), 3)}\"\n",
    "\n",
    "aucs"
   ]
  }
 ],
 "metadata": {
  "kernelspec": {
   "display_name": "Python 3 (ipykernel)",
   "language": "python",
   "name": "python3"
  },
  "language_info": {
   "codemirror_mode": {
    "name": "ipython",
    "version": 3
   },
   "file_extension": ".py",
   "mimetype": "text/x-python",
   "name": "python",
   "nbconvert_exporter": "python",
   "pygments_lexer": "ipython3",
   "version": "3.12.5"
  }
 },
 "nbformat": 4,
 "nbformat_minor": 5
}
