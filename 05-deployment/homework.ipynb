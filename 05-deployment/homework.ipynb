{
 "cells": [
  {
   "cell_type": "markdown",
   "id": "1a9a3554-03da-4a3f-a1fa-51efaf5035b6",
   "metadata": {},
   "source": [
    "# 05-deployment"
   ]
  },
  {
   "cell_type": "markdown",
   "id": "3cfdb05e-d060-47ab-8e45-e2f24cebca75",
   "metadata": {},
   "source": [
    "## Importing libraries"
   ]
  },
  {
   "cell_type": "code",
   "execution_count": 1,
   "id": "3f1d456a-4efe-4fb8-bfdb-f9e612396ae4",
   "metadata": {},
   "outputs": [],
   "source": [
    "import pickle\n",
    "import sklearn\n",
    "import requests"
   ]
  },
  {
   "cell_type": "markdown",
   "id": "b4bbee29-87a0-413c-8c79-6964774acb31",
   "metadata": {},
   "source": [
    "## Question 1"
   ]
  },
  {
   "cell_type": "code",
   "execution_count": 2,
   "id": "fe641d09-cc87-4d3a-805f-fb85f45aae81",
   "metadata": {},
   "outputs": [
    {
     "name": "stdout",
     "output_type": "stream",
     "text": [
      "\u001b[1mpipenv\u001b[0m, version 2024.2.0\n"
     ]
    }
   ],
   "source": [
    "!pipenv --version"
   ]
  },
  {
   "cell_type": "markdown",
   "id": "307a1f03-6048-43d1-bb15-af2d37e67b8e",
   "metadata": {},
   "source": [
    "## Question 2"
   ]
  },
  {
   "cell_type": "code",
   "execution_count": 3,
   "id": "95b0c8c8-d150-4dd4-8efa-47552b053954",
   "metadata": {},
   "outputs": [
    {
     "name": "stdout",
     "output_type": "stream",
     "text": [
      "sha256:03b6158efa3faaf1feea3faa884c840ebd61b6484167c711548fce208ea09445\n"
     ]
    }
   ],
   "source": [
    "!grep -A 2 '\"scikit-learn\"' Pipfile.lock | grep -m 1 'sha256:' | awk -F '\"' '{print $2}'"
   ]
  },
  {
   "cell_type": "markdown",
   "id": "332b6ae3-979a-474c-b982-a64ef4bad1ab",
   "metadata": {},
   "source": [
    "## Question 3"
   ]
  },
  {
   "cell_type": "code",
   "execution_count": 4,
   "id": "c2451faa-2ba2-4ad7-99b2-ff11d694ec4f",
   "metadata": {},
   "outputs": [],
   "source": [
    "with open(\"dv.bin\", 'rb') as picklefile:\n",
    "    dv = pickle.load(picklefile)\n",
    "with open(\"model1.bin\", 'rb') as picklefile:\n",
    "    model = pickle.load(picklefile)"
   ]
  },
  {
   "cell_type": "code",
   "execution_count": 5,
   "id": "b15db487-06b4-40e0-9a0a-45e1cf861eb0",
   "metadata": {},
   "outputs": [],
   "source": [
    "def predict_single(client, dv, model):\n",
    "    X = dv.transform([client])\n",
    "    y_pred = model.predict_proba(X)\n",
    "    return y_pred[0][1]"
   ]
  },
  {
   "cell_type": "code",
   "execution_count": 6,
   "id": "15e969df-623d-4c1d-bcd9-41f7161803a7",
   "metadata": {},
   "outputs": [
    {
     "data": {
      "text/plain": [
       "'Client will get a subscription with probability 0.759'"
      ]
     },
     "execution_count": 6,
     "metadata": {},
     "output_type": "execute_result"
    }
   ],
   "source": [
    "client = {\"job\": \"management\", \"duration\": 400, \"poutcome\": \"success\"}\n",
    "vec = dv.transform(client)\n",
    "proba = predict_single(client, dv, model)\n",
    "f\"Client will get a subscription with probability {round(proba, 3)}\""
   ]
  },
  {
   "cell_type": "markdown",
   "id": "edcb9394-bc28-4b30-9958-5da352975b24",
   "metadata": {},
   "source": [
    "## Question 4"
   ]
  },
  {
   "cell_type": "code",
   "execution_count": 17,
   "id": "9e914de8-b923-49a8-9369-ba448cae774f",
   "metadata": {},
   "outputs": [
    {
     "data": {
      "text/plain": [
       "'0.335 probability that client will get a subscription'"
      ]
     },
     "execution_count": 17,
     "metadata": {},
     "output_type": "execute_result"
    }
   ],
   "source": [
    "url = \"http://127.0.0.1:9696/predict\"\n",
    "client = {\"job\": \"student\", \"duration\": 280, \"poutcome\": \"failure\"}\n",
    "response = requests.post(url, json=client).json()\n",
    "f\"{round(response['credit_probability'],3)} probability that client will get a subscription\""
   ]
  },
  {
   "cell_type": "markdown",
   "id": "5a435546-1372-4a8f-bd80-a72d89ceeef7",
   "metadata": {},
   "source": [
    "## Question 5"
   ]
  },
  {
   "cell_type": "markdown",
   "id": "9b3f9916-fea4-40ee-94eb-8e1d80c66a21",
   "metadata": {},
   "source": [
    "| REPOSITORY            |  TAG        |   IMAGE ID    |   CREATED    |    SIZE |\n",
    "| ----------------------|-------------|---------------|--------------|---------|\n",
    "| svizor/zoomcamp-model | 3.11.5-slim | 975e7bdca086  | 6 days ago   |   130M  |"
   ]
  },
  {
   "cell_type": "markdown",
   "id": "b93cc1ec-af70-4534-8301-afa70d419478",
   "metadata": {},
   "source": [
    "## Question 6"
   ]
  },
  {
   "cell_type": "code",
   "execution_count": 5,
   "id": "4ea7d8e3-121c-4bc4-a1eb-c5da95bbd29b",
   "metadata": {},
   "outputs": [
    {
     "data": {
      "text/plain": [
       "'0.757 probability that client will get a subscription'"
      ]
     },
     "execution_count": 5,
     "metadata": {},
     "output_type": "execute_result"
    }
   ],
   "source": [
    "url = \"http://127.0.0.1:9696/predict\"\n",
    "client = {\"job\": \"management\", \"duration\": 400, \"poutcome\": \"success\"}\n",
    "response = requests.post(url, json=client).json()\n",
    "f\"{round(response['credit_probability'],3)} probability that client will get a subscription\""
   ]
  }
 ],
 "metadata": {
  "kernelspec": {
   "display_name": "Python (Pipenv)",
   "language": "python",
   "name": "pipenv_kernel"
  },
  "language_info": {
   "codemirror_mode": {
    "name": "ipython",
    "version": 3
   },
   "file_extension": ".py",
   "mimetype": "text/x-python",
   "name": "python",
   "nbconvert_exporter": "python",
   "pygments_lexer": "ipython3",
   "version": "3.12.3"
  }
 },
 "nbformat": 4,
 "nbformat_minor": 5
}
