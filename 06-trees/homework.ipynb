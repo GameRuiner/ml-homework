{
 "cells": [
  {
   "cell_type": "markdown",
   "id": "0aeeef8e-ba0c-46e7-8aa2-c73b652c0d5f",
   "metadata": {},
   "source": [
    "# Trees"
   ]
  },
  {
   "cell_type": "markdown",
   "id": "4280fd78-0cd2-411c-892f-5260a7f9e6a8",
   "metadata": {},
   "source": [
    "## Importing libraries"
   ]
  },
  {
   "cell_type": "code",
   "execution_count": 20,
   "id": "12067756-8321-4e03-81c6-6177fefa6057",
   "metadata": {},
   "outputs": [],
   "source": [
    "import pandas as pd\n",
    "import numpy as np\n",
    "\n",
    "from sklearn.model_selection import train_test_split\n",
    "from sklearn.feature_extraction import DictVectorizer\n",
    "\n",
    "from sklearn.tree import DecisionTreeRegressor\n",
    "from sklearn.ensemble import RandomForestRegressor\n",
    "import xgboost as xgb\n",
    "\n",
    "from sklearn.metrics import root_mean_squared_error\n",
    "\n",
    "random_state = 1\n",
    "np.random.seed(random_state)"
   ]
  },
  {
   "cell_type": "markdown",
   "id": "dd67531c-3bc7-44c5-9ccd-2312115b6616",
   "metadata": {},
   "source": [
    "## Preparing the dataset"
   ]
  },
  {
   "cell_type": "code",
   "execution_count": 3,
   "id": "7dede6d2-bed7-4503-b6f0-2c4f9e7deb37",
   "metadata": {},
   "outputs": [],
   "source": [
    "def prepare_train(train_data):  \n",
    "    train_dict = train_data.to_dict(orient='records')\n",
    "    dv = DictVectorizer(sparse=True)\n",
    "    X_train = dv.fit_transform(train_dict)\n",
    "    return X_train, dv\n",
    "\n",
    "def prepare_val(val_data, dv):\n",
    "    val_dict = val_data.to_dict(orient='records')\n",
    "    X_val = dv.transform(val_dict)\n",
    "    return X_val"
   ]
  },
  {
   "cell_type": "code",
   "execution_count": 4,
   "id": "2d74509d-5916-433f-8473-1379bfc88ac5",
   "metadata": {},
   "outputs": [
    {
     "name": "stdout",
     "output_type": "stream",
     "text": [
      "(3000, 16) (1000, 16) (1000, 16)\n"
     ]
    }
   ],
   "source": [
    "df = pd.read_csv('jamb_exam_results.csv')\n",
    "df.columns = df.columns.str.lower().str.replace(' ', '_')\n",
    "df.drop('student_id', axis=1, inplace=True)\n",
    "df.fillna(0, inplace=True)\n",
    "train_data, temp_data = train_test_split(df, test_size=0.4, random_state=random_state)\n",
    "val_data, test_data = train_test_split(temp_data, test_size=0.5, random_state=random_state)\n",
    "print(train_data.shape, val_data.shape, test_data.shape)\n",
    "X_train = train_data.drop('jamb_score', axis=1)\n",
    "y_train = train_data.jamb_score\n",
    "X_val = val_data.drop('jamb_score', axis=1)\n",
    "y_val = val_data.jamb_score\n",
    "X_test = test_data.drop('jamb_score', axis=1)\n",
    "y_test = test_data.jamb_score\n",
    "\n",
    "X_train_vec, dv = prepare_train(X_train)\n",
    "X_val_vec = prepare_val(X_val, dv)\n",
    "X_test_vec = prepare_val(X_test, dv)"
   ]
  },
  {
   "cell_type": "markdown",
   "id": "7d9af1d0-a853-405f-ab9a-198b2d2f39f0",
   "metadata": {},
   "source": [
    "## Question 1"
   ]
  },
  {
   "cell_type": "code",
   "execution_count": 40,
   "id": "5ac22a13-6d29-4226-913d-c9bfb1ad682f",
   "metadata": {},
   "outputs": [
    {
     "data": {
      "text/plain": [
       "\"'study_hours_per_week' used for splitting data\""
      ]
     },
     "execution_count": 40,
     "metadata": {},
     "output_type": "execute_result"
    }
   ],
   "source": [
    "dt = DecisionTreeRegressor(max_depth=1)\n",
    "dt.fit(X_train_vec, y_train)\n",
    "split_feature_index = dt.tree_.feature[0]\n",
    "features_names = dv.get_feature_names_out()\n",
    "f\"'{features_names[split_feature_index]}' used for splitting data\"\n"
   ]
  },
  {
   "cell_type": "markdown",
   "id": "1d74198a-6268-4deb-9e59-3e5ba3097576",
   "metadata": {},
   "source": [
    "## Question 2"
   ]
  },
  {
   "cell_type": "code",
   "execution_count": 64,
   "id": "105de518-c9e7-4561-85ef-f0679be897a5",
   "metadata": {},
   "outputs": [
    {
     "data": {
      "text/plain": [
       "'RMSE is 43.16'"
      ]
     },
     "execution_count": 64,
     "metadata": {},
     "output_type": "execute_result"
    }
   ],
   "source": [
    "rf = RandomForestRegressor(n_estimators=10, random_state=random_state, n_jobs=-1)\n",
    "rf.fit(X_train_vec, y_train)\n",
    "y_pred = rf.predict(X_val_vec)\n",
    "rmse = root_mean_squared_error(y_val, y_pred)\n",
    "f\"RMSE is {round(rmse, 2)}\""
   ]
  },
  {
   "cell_type": "markdown",
   "id": "c6676753-aad2-439f-bf31-6d47ad3e4e56",
   "metadata": {},
   "source": [
    "## Question 3"
   ]
  },
  {
   "cell_type": "code",
   "execution_count": 67,
   "id": "b7570486-1dda-473f-880d-54ab1df4ef8a",
   "metadata": {},
   "outputs": [
    {
     "name": "stdout",
     "output_type": "stream",
     "text": [
      "43.158 RMSE for 10 n_estimators\n",
      "41.79 RMSE for 20 n_estimators\n",
      "41.556 RMSE for 30 n_estimators\n",
      "41.076 RMSE for 40 n_estimators\n",
      "40.957 RMSE for 50 n_estimators\n",
      "40.774 RMSE for 60 n_estimators\n",
      "40.588 RMSE for 70 n_estimators\n",
      "40.503 RMSE for 80 n_estimators\n",
      "40.435 RMSE for 90 n_estimators\n",
      "40.365 RMSE for 100 n_estimators\n",
      "40.348 RMSE for 110 n_estimators\n",
      "40.302 RMSE for 120 n_estimators\n",
      "40.286 RMSE for 130 n_estimators\n",
      "40.263 RMSE for 140 n_estimators\n",
      "40.254 RMSE for 150 n_estimators\n",
      "40.2 RMSE for 160 n_estimators\n",
      "40.187 RMSE for 170 n_estimators\n",
      "40.136 RMSE for 180 n_estimators\n",
      "RMSE 40.152 stopped improving\n"
     ]
    }
   ],
   "source": [
    "rmse = float('+inf')\n",
    "for n_estimators in range(10, 210, 10):\n",
    "    rf = RandomForestRegressor(n_estimators=n_estimators, random_state=random_state, n_jobs=-1)\n",
    "    rf.fit(X_train_vec, y_train)\n",
    "    y_pred = rf.predict(X_val_vec)\n",
    "    new_rmse = round(root_mean_squared_error(y_val, y_pred), 3)\n",
    "    if new_rmse >= rmse:\n",
    "        print(f'RMSE {new_rmse} stopped improving')\n",
    "        break\n",
    "    print(f'{new_rmse} RMSE for {n_estimators} n_estimators')\n",
    "    rmse = new_rmse"
   ]
  },
  {
   "cell_type": "markdown",
   "id": "d20453fb-b0cf-4ea5-9b66-33dea3b9600f",
   "metadata": {},
   "source": [
    "## Question 4"
   ]
  },
  {
   "cell_type": "markdown",
   "id": "a9fe7b16-1799-445b-98e2-863776e6ac7b",
   "metadata": {},
   "source": [
    "depths = [10, 15, 20, 25]\n",
    "rmses = []\n",
    "for max_depth in depths:\n",
    "    max_depth_rmses = []\n",
    "    for n_estimators in range(10, 210, 10):\n",
    "        rf = RandomForestRegressor(n_estimators=n_estimators, random_state=random_state, max_depth=max_depth, n_jobs=-1)\n",
    "        rf.fit(X_train_vec, y_train)\n",
    "        y_pred = rf.predict(X_val_vec)\n",
    "        rmse = root_mean_squared_error(y_val, y_pred)\n",
    "        max_depth_rmses.append(rmse)\n",
    "        print(f\"RMSE {rmse}, max_depth {max_depth}, n_estimators {n_estimators}\")\n",
    "    mean_rmse = np.mean(max_depth_rmses)\n",
    "    rmses.append(mean_rmse)\n",
    "    print(f\"Mean RMSE {mean_rmse}, max_depth {max_depth}\")\n",
    "rmses"
   ]
  },
  {
   "cell_type": "code",
   "execution_count": 10,
   "id": "ae33bf71-3e9c-4ec0-877f-f789647ed197",
   "metadata": {},
   "outputs": [
    {
     "data": {
      "text/plain": [
       "'25 best max_depth'"
      ]
     },
     "execution_count": 10,
     "metadata": {},
     "output_type": "execute_result"
    }
   ],
   "source": [
    "depth = depths[np.array(rmses).argmax()]\n",
    "f\"{depth} best max_depth\""
   ]
  },
  {
   "cell_type": "markdown",
   "id": "699f2527-f0db-4d70-9b53-51f5fb9645a1",
   "metadata": {},
   "source": [
    "## Question 5"
   ]
  },
  {
   "cell_type": "code",
   "execution_count": 18,
   "id": "88086fba-153d-4808-8c11-251128268028",
   "metadata": {},
   "outputs": [
    {
     "data": {
      "text/plain": [
       "\"'study_hours_per_week' most important feature\""
      ]
     },
     "execution_count": 18,
     "metadata": {},
     "output_type": "execute_result"
    }
   ],
   "source": [
    "rf = RandomForestRegressor(n_estimators=10, random_state=random_state, max_depth=20, n_jobs=-1)\n",
    "rf.fit(X_train_vec, y_train)\n",
    "feature = dv.get_feature_names_out()[rf.feature_importances_.argmax()]\n",
    "f\"'{feature}' most important feature\" "
   ]
  },
  {
   "cell_type": "markdown",
   "id": "4a35693f-0cb6-4e10-adf8-c116de68e7bf",
   "metadata": {},
   "source": [
    "## Question 6"
   ]
  },
  {
   "cell_type": "code",
   "execution_count": 22,
   "id": "2008c7be-d6fe-471c-a531-b28ac46a7796",
   "metadata": {},
   "outputs": [],
   "source": [
    "dtrain = xgb.DMatrix(X_train_vec, label=y_train, feature_names=dv.feature_names_)\n",
    "dval = xgb.DMatrix(X_val_vec, label=y_val, feature_names=dv.feature_names_)\n",
    "watchlist = [(dtrain, 'train'), (dval, 'val')]\n",
    "xgb_params = {\n",
    "    'eta': 0.3, \n",
    "    'max_depth': 6,\n",
    "    'min_child_weight': 1,\n",
    "    \n",
    "    'objective': 'reg:squarederror',\n",
    "    'nthread': 8,\n",
    "    \n",
    "    'seed': 1,\n",
    "    'verbosity': 1,\n",
    "}"
   ]
  },
  {
   "cell_type": "code",
   "execution_count": null,
   "id": "bd93707d-e328-4ca8-86f5-98cebee66312",
   "metadata": {},
   "outputs": [],
   "source": []
  },
  {
   "cell_type": "code",
   "execution_count": 23,
   "id": "841c7dd5-b94c-4119-81d3-dc6b9b3699f9",
   "metadata": {},
   "outputs": [
    {
     "name": "stdout",
     "output_type": "stream",
     "text": [
      "[0]\ttrain-rmse:42.84835\tval-rmse:44.52338\n",
      "[10]\ttrain-rmse:31.73818\tval-rmse:40.83759\n",
      "[20]\ttrain-rmse:27.52551\tval-rmse:41.28381\n",
      "[30]\ttrain-rmse:25.19051\tval-rmse:41.61678\n",
      "[40]\ttrain-rmse:22.21691\tval-rmse:42.04865\n",
      "[50]\ttrain-rmse:19.90566\tval-rmse:42.31672\n",
      "[60]\ttrain-rmse:17.78802\tval-rmse:42.54742\n",
      "[70]\ttrain-rmse:16.24964\tval-rmse:42.89325\n",
      "[80]\ttrain-rmse:14.65331\tval-rmse:43.21506\n",
      "[90]\ttrain-rmse:13.37213\tval-rmse:43.24201\n",
      "[99]\ttrain-rmse:12.29305\tval-rmse:43.34291\n"
     ]
    }
   ],
   "source": [
    "model = xgb.train(xgb_params, dtrain,\n",
    "                  num_boost_round=100,\n",
    "                  evals=watchlist, verbose_eval=10)"
   ]
  },
  {
   "cell_type": "code",
   "execution_count": 24,
   "id": "b097ca08-5a32-4a16-9de0-60122559fd83",
   "metadata": {},
   "outputs": [
    {
     "name": "stdout",
     "output_type": "stream",
     "text": [
      "[0]\ttrain-rmse:45.64414\tval-rmse:46.63724\n",
      "[10]\ttrain-rmse:37.26338\tval-rmse:41.35829\n",
      "[20]\ttrain-rmse:33.94837\tval-rmse:40.40272\n",
      "[30]\ttrain-rmse:31.97085\tval-rmse:40.20269\n",
      "[40]\ttrain-rmse:30.48894\tval-rmse:40.26732\n",
      "[50]\ttrain-rmse:29.42464\tval-rmse:40.42217\n",
      "[60]\ttrain-rmse:28.40566\tval-rmse:40.50575\n",
      "[70]\ttrain-rmse:27.14408\tval-rmse:40.58776\n",
      "[80]\ttrain-rmse:26.19196\tval-rmse:40.64646\n",
      "[90]\ttrain-rmse:25.38224\tval-rmse:40.72848\n",
      "[99]\ttrain-rmse:24.58526\tval-rmse:40.83188\n"
     ]
    }
   ],
   "source": [
    "xgb_params['eta'] = 0.1\n",
    "model = xgb.train(xgb_params, dtrain,\n",
    "                  num_boost_round=100,\n",
    "                  evals=watchlist, verbose_eval=10)"
   ]
  },
  {
   "cell_type": "markdown",
   "id": "9a071fa6-4807-43c1-b23f-9601ef30b498",
   "metadata": {},
   "source": [
    "eta 0.1 leads to the best RMSE score on the validation dataset"
   ]
  }
 ],
 "metadata": {
  "kernelspec": {
   "display_name": "Python 3 (ipykernel)",
   "language": "python",
   "name": "python3"
  },
  "language_info": {
   "codemirror_mode": {
    "name": "ipython",
    "version": 3
   },
   "file_extension": ".py",
   "mimetype": "text/x-python",
   "name": "python",
   "nbconvert_exporter": "python",
   "pygments_lexer": "ipython3",
   "version": "3.12.5"
  }
 },
 "nbformat": 4,
 "nbformat_minor": 5
}
